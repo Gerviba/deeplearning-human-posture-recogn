{
  "nbformat": 4,
  "nbformat_minor": 0,
  "metadata": {
    "colab": {
      "name": "Untitled3.ipynb",
      "provenance": [],
      "collapsed_sections": [],
      "include_colab_link": true
    },
    "kernelspec": {
      "name": "python3",
      "display_name": "Python 3"
    }
  },
  "cells": [
    {
      "cell_type": "markdown",
      "metadata": {
        "id": "view-in-github",
        "colab_type": "text"
      },
      "source": [
        "<a href=\"https://colab.research.google.com/github/Gerviba/deeplearning-human-posture-recogn/blob/master/transformer.ipynb\" target=\"_parent\"><img src=\"https://colab.research.google.com/assets/colab-badge.svg\" alt=\"Open In Colab\"/></a>"
      ]
    },
    {
      "cell_type": "code",
      "metadata": {
        "id": "wiS_9G6PhCs1"
      },
      "source": [
        "from PIL import Image\n",
        "import numpy as np\n",
        "import os"
      ],
      "execution_count": null,
      "outputs": []
    },
    {
      "cell_type": "code",
      "metadata": {
        "id": "V5AVHtQZefZs"
      },
      "source": [
        "AGENT = \"A01\"\n",
        "FIGS = [\"F1\", \"F2\", \"F3\", \"F4\", \"F5\", \"F6\"]\n",
        "FRAMES = [[\"1\", \"2\", \"3\", \"4\", \"5\"], \n",
        "          [\"1\", \"2\", \"3\", \"4\", \"5\"],\n",
        "          [\"1\", \"2\", \"3\", \"4\"],\n",
        "          [\"1\", \"2\", \"3\", \"4\"],\n",
        "          [\"1\", \"2\", \"3\", \"4\", \"5\"],\n",
        "          [\"1\", \"2\", \"3\"]]\n",
        "\n",
        "FIGS_AYNC = [\"F7\", \"F8\", \"F9\", \"F10\", \"F11\", \"F12\", \"F13\"]\n",
        "FRAMES_ASYNC = [[\"1\", \"2\", \"3\"],\n",
        "                [\"1\", \"2\", \"3\"],\n",
        "                [\"1\", \"2\", \"3\"],\n",
        "                [\"1\", \"2\", \"3\"],\n",
        "                [\"1\", \"2\", \"3\"],\n",
        "                [\"1\", \"2\", \"3\"],\n",
        "                [\"1\", \"2\", \"3\"]]\n",
        "\n",
        "# Input file: input/{AGENT}_{FIG}_{FRAME}.jpg\n",
        "# Output file format (generated async image): output/L{L-FIG}-{L-FRAME}_R{R-FIG}-{R-FRAME}/L{L-FIG}-{L-FRAME}_R{R-FIG}-{R-FRAME}_{AGENT}.jpg\n",
        "# Output file format (simple async image): output/{FIG}-{FRAME}/{FIG}-{FRAME}_{AGENT}.jpg\n"
      ],
      "execution_count": null,
      "outputs": []
    },
    {
      "cell_type": "markdown",
      "metadata": {
        "id": "sc29Ky0HjgUv"
      },
      "source": [
        "---\n"
      ]
    },
    {
      "cell_type": "code",
      "metadata": {
        "id": "_YTApniOjewZ"
      },
      "source": [
        "fig = FIGS[0]\n",
        "frame = FRAMES[0][0]\n",
        "\n",
        "leftHalves = np.empty((len(FIGS), 5, 563, 500, 3))\n",
        "rightHalves = np.empty((len(FIGS), 5, 563, 500, 3))\n",
        "\n",
        "TARGET_WIDTH = 500\n",
        "\n",
        "figId = 0\n",
        "for fig in FIGS:\n",
        "  frameId = 0\n",
        "\n",
        "  for frame in FRAMES[figId]:\n",
        "    im = np.array(Image.open(\"input/%s_%s_%s.jpg\" % (AGENT, fig, frame)))\n",
        "    im = im[::4, ::4, :]\n",
        "    print(im.shape)\n",
        "\n",
        "    leftHalves[figId, frameId] = (im[:, :500, :].copy())\n",
        "    rightHalves[figId, frameId] = (im[:, 500:, :].copy())\n",
        "    \n",
        "    frameId += 1\n",
        "  figId += 1\n"
      ],
      "execution_count": null,
      "outputs": []
    },
    {
      "cell_type": "code",
      "metadata": {
        "id": "Ia-fueY8k2xZ"
      },
      "source": [
        "figLId = 0\n",
        "for figL in FIGS:\n",
        "  frameLId = 0\n",
        "  for frameL in FRAMES[figLId]:\n",
        "    figRId = 0\n",
        "    for figR in FIGS:\n",
        "      frameRId = 0\n",
        "      for frameR in FRAMES[figRId]:\n",
        "        imL = leftHalves[figLId][frameLId]\n",
        "        imR = rightHalves[figRId][frameRId]\n",
        "\n",
        "        im = np.concatenate((imL, imR), axis=1)\n",
        "        im = im.astype(np.uint8)\n",
        "\n",
        "        pil_img = Image.fromarray(im)\n",
        "        dir = \"output/L%s-%s_R%s-%s\" % (figL, frameL, figR, frameR)\n",
        "        if not os.path.exists(dir):\n",
        "          os.makedirs(dir)\n",
        "        fileName = \"%s/L%s-%s_R%s-%s_%s.jpg\" % (dir, figL, frameL, figR, frameR, AGENT)\n",
        "        pil_img.save(fileName)\n",
        "        print(\"Saved: %s\" % (fileName))\n",
        "        frameRId += 1\n",
        "      figRId += 1\n",
        "    frameLId += 1\n",
        "  figLId += 1"
      ],
      "execution_count": null,
      "outputs": []
    },
    {
      "cell_type": "markdown",
      "metadata": {
        "id": "UaVGc3C70KVC"
      },
      "source": [
        "### Async images read "
      ]
    },
    {
      "cell_type": "code",
      "metadata": {
        "id": "V54dudq6targ"
      },
      "source": [
        "pics = np.empty((len(FIGS_AYNC), 5, 563, 500, 3))\n",
        "\n",
        "for fig_idx, fig in enumerate(FIGS_AYNC):\n",
        "  for frame_idx, frame in enumerate(FRAMES_ASYNC[fig_idx]):\n",
        "    im = np.array(Image.open(\"input/%s_%s_%s\" % (AGENT, fig, frame)))\n",
        "    im = im[::4, ::4, :]\n",
        "    print(im.shape)\n",
        "    pics[fig_idx, frame_idx] = (im[:, :, :].copy())"
      ],
      "execution_count": null,
      "outputs": []
    },
    {
      "cell_type": "markdown",
      "metadata": {
        "id": "4z7lqDgS0Qvg"
      },
      "source": [
        "### Async images write"
      ]
    },
    {
      "cell_type": "code",
      "metadata": {
        "id": "PNiwhC6Iq9XW"
      },
      "source": [
        "for fig_idx, fig in enumerate(FIGS_AYNC):\n",
        "  for frame_idx, frame in enumerate(FRAMES_ASYNC[fig_idx]):\n",
        "    im = pics[fig_idx][frame_idx]\n",
        "    im = im.astype(np.uint8)\n",
        "    pil_img = Image.fromarray(im)\n",
        "    fig_frame = \"%s-%s\" % (fig, frame)\n",
        "    # output/FIG-FRAME/FIG-FRAME_AGENT.jpg\n",
        "    dir = \"output/%s\" % (fig_frame)\n",
        "\n",
        "    if not os.path.exists(dir):\n",
        "      os.makedirs(dir)\n",
        "\n",
        "    fileName = \"%s/%s_%s.jpg\" % (dir, fig_frame, AGENT)\n",
        "    pil_img.save(fileName)\n",
        "    print(\"Saved: %s\" %(fileName))\n",
        "    "
      ],
      "execution_count": null,
      "outputs": []
    },
    {
      "cell_type": "code",
      "metadata": {
        "id": "-ieQ49aiycMi"
      },
      "source": [
        "!rm -r input/*.jpg"
      ],
      "execution_count": null,
      "outputs": []
    },
    {
      "cell_type": "code",
      "metadata": {
        "id": "qqAHMTt_AgUC"
      },
      "source": [
        ""
      ],
      "execution_count": null,
      "outputs": []
    }
  ]
}